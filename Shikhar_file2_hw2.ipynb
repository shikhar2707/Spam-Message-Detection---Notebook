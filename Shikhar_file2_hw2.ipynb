{
  "nbformat": 4,
  "nbformat_minor": 0,
  "metadata": {
    "colab": {
      "provenance": []
    },
    "kernelspec": {
      "name": "python3",
      "display_name": "Python 3"
    },
    "language_info": {
      "name": "python"
    }
  },
  "cells": [
    {
      "cell_type": "code",
      "execution_count": 1,
      "metadata": {
        "id": "l8XhT8m7tCNp"
      },
      "outputs": [],
      "source": [
        "%load_ext autoreload\n",
        "%autoreload 2"
      ]
    },
    {
      "cell_type": "code",
      "source": [
        "import sys"
      ],
      "metadata": {
        "id": "9YcYVpLQt2Ms"
      },
      "execution_count": 2,
      "outputs": []
    },
    {
      "cell_type": "code",
      "source": [
        "if 'google.colab' in str(get_ipython()):\n",
        "    from google.colab import drive\n",
        "    drive.mount('/content/drive')\n",
        "\n",
        "    !pip install -U nltk -qq\n",
        "    !pip install -U spacy -qq\n",
        "    !pip install -U pyspellchecker -qq\n",
        "    !python -m spacy download en_core_web_sm -qq\n",
        "    !python -m spacy download en_core_web_lg -qq\n",
        "\n",
        "    basepath = '/content/drive/MyDrive/data'\n",
        "    sys.path.append('/content/drive/MyDrive/Colab Notebooks/NLP UTD')\n",
        "else:\n",
        "    basepath = '/home/harpreet/Insync/google_drive_shaannoor/data'\n",
        "    sys.path.append(\n",
        "    '/home/harpreet/Insync/google_drive_shaannoor/data/custom-functions')\n"
      ],
      "metadata": {
        "colab": {
          "base_uri": "https://localhost:8080/"
        },
        "id": "ipHgSQ-tt31r",
        "outputId": "cc46c979-586a-4107-f24c-5b0014cec452"
      },
      "execution_count": 3,
      "outputs": [
        {
          "output_type": "stream",
          "name": "stdout",
          "text": [
            "Mounted at /content/drive\n",
            "\u001b[2K   \u001b[90m━━━━━━━━━━━━━━━━━━━━━━━━━━━━━━━━━━━━━━━━\u001b[0m \u001b[32m1.5/1.5 MB\u001b[0m \u001b[31m15.7 MB/s\u001b[0m eta \u001b[36m0:00:00\u001b[0m\n",
            "\u001b[2K   \u001b[90m━━━━━━━━━━━━━━━━━━━━━━━━━━━━━━━━━━━━━━━━\u001b[0m \u001b[32m6.8/6.8 MB\u001b[0m \u001b[31m80.4 MB/s\u001b[0m eta \u001b[36m0:00:00\u001b[0m\n",
            "\u001b[2K     \u001b[90m━━━━━━━━━━━━━━━━━━━━━━━━━━━━━━━━━━━━━━━━\u001b[0m \u001b[32m12.8/12.8 MB\u001b[0m \u001b[31m72.0 MB/s\u001b[0m eta \u001b[36m0:00:00\u001b[0m\n",
            "\u001b[?25h\u001b[38;5;2m✔ Download and installation successful\u001b[0m\n",
            "You can now load the package via spacy.load('en_core_web_sm')\n",
            "\u001b[38;5;3m⚠ Restart to reload dependencies\u001b[0m\n",
            "If you are in a Jupyter or Colab notebook, you may need to restart Python in\n",
            "order to load all the package's dependencies. You can do this by selecting the\n",
            "'Restart kernel' or 'Restart runtime' option.\n",
            "\u001b[2K     \u001b[90m━━━━━━━━━━━━━━━━━━━━━━━━━━━━━━━━━━━━━━━━\u001b[0m \u001b[32m587.7/587.7 MB\u001b[0m \u001b[31m2.9 MB/s\u001b[0m eta \u001b[36m0:00:00\u001b[0m\n",
            "\u001b[?25h\u001b[38;5;2m✔ Download and installation successful\u001b[0m\n",
            "You can now load the package via spacy.load('en_core_web_lg')\n",
            "\u001b[38;5;3m⚠ Restart to reload dependencies\u001b[0m\n",
            "If you are in a Jupyter or Colab notebook, you may need to restart Python in\n",
            "order to load all the package's dependencies. You can do this by selecting the\n",
            "'Restart kernel' or 'Restart runtime' option.\n"
          ]
        }
      ]
    },
    {
      "cell_type": "markdown",
      "source": [
        "### Libraries"
      ],
      "metadata": {
        "id": "FoPwWeTYuGS7"
      }
    },
    {
      "cell_type": "code",
      "source": [
        "import numpy as np\n",
        "import pandas as pd"
      ],
      "metadata": {
        "id": "qTImdVykuHy0"
      },
      "execution_count": 4,
      "outputs": []
    },
    {
      "cell_type": "code",
      "source": [
        "from pathlib import Path\n",
        "\n",
        "import spacy\n",
        "from sklearn.feature_extraction.text import TfidfVectorizer\n",
        "from sklearn.metrics import classification_report, roc_auc_score, f1_score\n",
        "from sklearn.pipeline import Pipeline\n",
        "from sklearn.compose import ColumnTransformer\n",
        "\n",
        "\n",
        "from CustomPreprocessorSpacy import SpacyPreprocessor as preprocessor\n",
        "from FeaturizerSpacy import ManualFeatures as featurize\n",
        "from plot_learning_curve import *\n",
        "\n",
        "from sklearn.base import TransformerMixin, BaseEstimator\n",
        "\n",
        "from spellchecker import SpellChecker\n",
        "from scipy.sparse import csr_matrix\n",
        "import re, os"
      ],
      "metadata": {
        "id": "iwYeUIlcuL_P"
      },
      "execution_count": 5,
      "outputs": []
    },
    {
      "cell_type": "code",
      "source": [
        "data_loc=Path(basepath)/\"datasets\"/\"spam.csv\"\n",
        "spam_data = pd.read_csv(data_loc, encoding=\"ISO-8859-1\")"
      ],
      "metadata": {
        "id": "yhd1QoQQuOCd"
      },
      "execution_count": 6,
      "outputs": []
    },
    {
      "cell_type": "code",
      "source": [
        "spam_data.dropna(axis=1, inplace=True)\n",
        "spam_data.rename(columns={\"v1\":\"label\",\"v2\":\"message\"},inplace=True)\n",
        "spam_data['label'].replace({\"ham\":0,\"spam\":1},inplace=True)\n"
      ],
      "metadata": {
        "id": "wCcjkpDQuRMu"
      },
      "execution_count": 7,
      "outputs": []
    },
    {
      "cell_type": "code",
      "source": [
        "spam_large = spam_data.sample(frac=0.57, replace=True, random_state=1)"
      ],
      "metadata": {
        "id": "v8KLt8I9ub0R"
      },
      "execution_count": 8,
      "outputs": []
    },
    {
      "cell_type": "code",
      "source": [
        "(spam_large['label'].value_counts()/len(spam_large)) * 100"
      ],
      "metadata": {
        "colab": {
          "base_uri": "https://localhost:8080/",
          "height": 178
        },
        "id": "xDu3Kx-Jukha",
        "outputId": "5eef4f13-8a29-40e5-f6d0-bff569b8a6b9"
      },
      "execution_count": 9,
      "outputs": [
        {
          "output_type": "execute_result",
          "data": {
            "text/plain": [
              "label\n",
              "0    87.342569\n",
              "1    12.657431\n",
              "Name: count, dtype: float64"
            ],
            "text/html": [
              "<div>\n",
              "<style scoped>\n",
              "    .dataframe tbody tr th:only-of-type {\n",
              "        vertical-align: middle;\n",
              "    }\n",
              "\n",
              "    .dataframe tbody tr th {\n",
              "        vertical-align: top;\n",
              "    }\n",
              "\n",
              "    .dataframe thead th {\n",
              "        text-align: right;\n",
              "    }\n",
              "</style>\n",
              "<table border=\"1\" class=\"dataframe\">\n",
              "  <thead>\n",
              "    <tr style=\"text-align: right;\">\n",
              "      <th></th>\n",
              "      <th>count</th>\n",
              "    </tr>\n",
              "    <tr>\n",
              "      <th>label</th>\n",
              "      <th></th>\n",
              "    </tr>\n",
              "  </thead>\n",
              "  <tbody>\n",
              "    <tr>\n",
              "      <th>0</th>\n",
              "      <td>87.342569</td>\n",
              "    </tr>\n",
              "    <tr>\n",
              "      <th>1</th>\n",
              "      <td>12.657431</td>\n",
              "    </tr>\n",
              "  </tbody>\n",
              "</table>\n",
              "</div><br><label><b>dtype:</b> float64</label>"
            ]
          },
          "metadata": {},
          "execution_count": 9
        }
      ]
    },
    {
      "cell_type": "code",
      "source": [
        "X_train = spam_large['message'].values\n",
        "y_train = spam_large['label'].values"
      ],
      "metadata": {
        "id": "ZkWj4Y0XuocV"
      },
      "execution_count": 10,
      "outputs": []
    },
    {
      "cell_type": "markdown",
      "source": [
        "## Training our selected Pipeline i.e Pipeline 3 on the above computed set."
      ],
      "metadata": {
        "id": "wEfXzAZiuvUa"
      }
    },
    {
      "cell_type": "code",
      "source": [
        "from sklearn.naive_bayes import MultinomialNB\n",
        "from sklearn.model_selection import train_test_split\n",
        "from sklearn.experimental import enable_halving_search_cv\n",
        "from sklearn.model_selection import HalvingRandomSearchCV\n",
        "from sklearn.model_selection import StratifiedKFold\n",
        "cv_kfold = StratifiedKFold(n_splits=5, random_state=1, shuffle=True)"
      ],
      "metadata": {
        "id": "xcfYWLf8utuc"
      },
      "execution_count": 11,
      "outputs": []
    },
    {
      "cell_type": "markdown",
      "source": [
        "Feature Extractor"
      ],
      "metadata": {
        "id": "5tlqiwUZvDHD"
      }
    },
    {
      "cell_type": "code",
      "source": [
        "class CustomFeatures(featurize):\n",
        "  def __init__(self,spacy_model, batch_size = 64, pos_features = True, ner_features = True, text_descriptive_features = True, wrong_spelling_features = True, all_caps_and_characters=True, num_urls_feature = True):\n",
        "    self.spacy_model = spacy_model\n",
        "    self.batch_size = batch_size\n",
        "    self.pos_features = pos_features\n",
        "    self.ner_features = ner_features\n",
        "    self.text_descriptive_features = text_descriptive_features\n",
        "    self.wrong_spelling_features = wrong_spelling_features\n",
        "    self.all_caps_and_characters = all_caps_and_characters\n",
        "    self.num_urls_feature = num_urls_feature\n",
        "\n",
        "  def spelling_errors(self, cleaned_text):\n",
        "\n",
        "    list_count_spell_errors=[]\n",
        "    spell = SpellChecker()\n",
        "\n",
        "    for text in cleaned_text:\n",
        "      mistakes = spell.unknown(text.split())\n",
        "      list_count_spell_errors.append(len(mistakes))\n",
        "    spelling_mistakes_features = np.vstack((list_count_spell_errors))\n",
        "    return spelling_mistakes_features\n",
        "\n",
        "\n",
        "  def all_caps_count(self, cleaned_text):\n",
        "\n",
        "    list_all_caps = []\n",
        "    list_excl_marks = []\n",
        "    list_ques_marks = []\n",
        "\n",
        "\n",
        "    for text in cleaned_text:\n",
        "      all_caps_words = re.findall(r'\\b[A-Z][A-Z]+\\b', text)\n",
        "      list_all_caps.append(len(all_caps_words))\n",
        "\n",
        "      multiple_exclamation_marks = re.findall(r'!{3,}', text)\n",
        "      list_excl_marks.append(len(multiple_exclamation_marks))\n",
        "\n",
        "      multiple_question_marks = re.findall(r'\\?{3,}', text)\n",
        "      list_ques_marks.append(len(multiple_question_marks))\n",
        "\n",
        "    unusual_text_features = np.vstack((list_all_caps,list_excl_marks,list_ques_marks))\n",
        "    return np.transpose(unusual_text_features)\n",
        "\n",
        "  def number_of_urls(self, cleaned_text):\n",
        "\n",
        "    list_num_urls = []\n",
        "\n",
        "    url_pattern = re.compile(\n",
        "        r'(https?://[^\\s/$.?#].[^\\s]*|www\\.[^\\s/$.?#].[^\\s]*)',\n",
        "        re.IGNORECASE\n",
        "    )\n",
        "\n",
        "    for text in cleaned_text:\n",
        "      urls = url_pattern.findall(text)\n",
        "      list_num_urls.append(len(urls))\n",
        "\n",
        "    url_features = np.vstack((list_num_urls))\n",
        "    return url_features\n",
        "\n",
        "  def transform(self, X, y=None):\n",
        "\n",
        "        try:\n",
        "            # Check if the input data is a list or numpy array\n",
        "            if not isinstance(X, (list, np.ndarray)):\n",
        "                raise TypeError(f\"Expected list or numpy array, got {type(X)}\")\n",
        "\n",
        "\n",
        "            feature_names = []\n",
        "\n",
        "            if self.text_descriptive_features:\n",
        "                text_descriptive_features = self.get_text_descriptive_features(X)\n",
        "                feature_names.extend(['count_words', 'count_characters',\n",
        "                                      'count_characters_no_space', 'avg_word_length',\n",
        "                                      'count_numbers', 'count_sentences'])\n",
        "            else:\n",
        "                text_descriptive_features = np.empty(shape=(0, 0))\n",
        "\n",
        "            if self.pos_features:\n",
        "                pos_features = self.get_pos_features(X)\n",
        "\n",
        "                feature_names.extend(['noun_count', 'aux_count', 'verb_count', 'adj_count'])\n",
        "            else:\n",
        "                pos_features = np.empty(shape=(0, 0))\n",
        "\n",
        "            if self.ner_features:\n",
        "                ner_features = self.get_ner_features(X)\n",
        "\n",
        "                feature_names.extend(['ner'])\n",
        "            else:\n",
        "                ner_features = np.empty(shape=(0, 0))\n",
        "\n",
        "            if self.all_caps_and_characters:\n",
        "              unusual_features = self.all_caps_count(X)\n",
        "              feature_names.extend(['caps_count','excl_count','ques_count'])\n",
        "            else:\n",
        "              unusual_features = np.empty(shape=(0,0))\n",
        "\n",
        "            if self.num_urls_feature:\n",
        "              url_feature = self.number_of_urls(X)\n",
        "              feature_names.extend(['urls_count'])\n",
        "            else:\n",
        "              url_feature = np.empty(shape=(0,0))\n",
        "\n",
        "            if self.wrong_spelling_features:\n",
        "              spelling_mistakes_features = self.spelling_errors(X)\n",
        "              feature_names.extend(['spelling_errors_count'])\n",
        "            else:\n",
        "              spelling_mistakes_features = np.empty(shape=(0,0))\n",
        "\n",
        "            # Stack the feature arrays horizontally to form a single 2D numpy array\n",
        "            return np.hstack((text_descriptive_features, pos_features,  ner_features, unusual_features, url_feature, spelling_mistakes_features)), feature_names\n",
        "\n",
        "        except Exception as error:\n",
        "            print(f'An exception occured: {repr(error)}')"
      ],
      "metadata": {
        "id": "k1BjoqDau9FJ"
      },
      "execution_count": 12,
      "outputs": []
    },
    {
      "cell_type": "code",
      "source": [
        "featurizer = CustomFeatures(spacy_model='en_core_web_lg', batch_size = 1000)\n",
        "X_train_features, feature_names = featurizer.fit_transform(X_train)"
      ],
      "metadata": {
        "id": "f5kRb8TavEnT"
      },
      "execution_count": 13,
      "outputs": []
    },
    {
      "cell_type": "code",
      "source": [
        "X_train_real = pd.concat((pd.DataFrame(X_train, columns=['text_c']),\n",
        "                           pd.DataFrame(X_train_features, columns=feature_names)), axis=1)"
      ],
      "metadata": {
        "id": "1nacDWhPvLl1"
      },
      "execution_count": 14,
      "outputs": []
    },
    {
      "cell_type": "code",
      "source": [
        "X_train_real.head(1)"
      ],
      "metadata": {
        "colab": {
          "base_uri": "https://localhost:8080/",
          "height": 170
        },
        "id": "aQ7smotXvXvZ",
        "outputId": "4da2e8c5-772e-4975-8564-6516e0068136"
      },
      "execution_count": 15,
      "outputs": [
        {
          "output_type": "execute_result",
          "data": {
            "text/plain": [
              "                    text_c  count_words  count_characters  \\\n",
              "0  K k:) sms chat with me.          6.0              23.0   \n",
              "\n",
              "   count_characters_no_space  avg_word_length  count_numbers  count_sentences  \\\n",
              "0                       18.0         2.571429            0.0              1.0   \n",
              "\n",
              "   noun_count  aux_count  verb_count  adj_count  ner  caps_count  excl_count  \\\n",
              "0         4.0        0.0         1.0        0.0  0.0         0.0         0.0   \n",
              "\n",
              "   ques_count  urls_count  spelling_errors_count  \n",
              "0         0.0         0.0                    3.0  "
            ],
            "text/html": [
              "\n",
              "  <div id=\"df-244ecb6b-6183-4862-a365-4683d73fb724\" class=\"colab-df-container\">\n",
              "    <div>\n",
              "<style scoped>\n",
              "    .dataframe tbody tr th:only-of-type {\n",
              "        vertical-align: middle;\n",
              "    }\n",
              "\n",
              "    .dataframe tbody tr th {\n",
              "        vertical-align: top;\n",
              "    }\n",
              "\n",
              "    .dataframe thead th {\n",
              "        text-align: right;\n",
              "    }\n",
              "</style>\n",
              "<table border=\"1\" class=\"dataframe\">\n",
              "  <thead>\n",
              "    <tr style=\"text-align: right;\">\n",
              "      <th></th>\n",
              "      <th>text_c</th>\n",
              "      <th>count_words</th>\n",
              "      <th>count_characters</th>\n",
              "      <th>count_characters_no_space</th>\n",
              "      <th>avg_word_length</th>\n",
              "      <th>count_numbers</th>\n",
              "      <th>count_sentences</th>\n",
              "      <th>noun_count</th>\n",
              "      <th>aux_count</th>\n",
              "      <th>verb_count</th>\n",
              "      <th>adj_count</th>\n",
              "      <th>ner</th>\n",
              "      <th>caps_count</th>\n",
              "      <th>excl_count</th>\n",
              "      <th>ques_count</th>\n",
              "      <th>urls_count</th>\n",
              "      <th>spelling_errors_count</th>\n",
              "    </tr>\n",
              "  </thead>\n",
              "  <tbody>\n",
              "    <tr>\n",
              "      <th>0</th>\n",
              "      <td>K k:) sms chat with me.</td>\n",
              "      <td>6.0</td>\n",
              "      <td>23.0</td>\n",
              "      <td>18.0</td>\n",
              "      <td>2.571429</td>\n",
              "      <td>0.0</td>\n",
              "      <td>1.0</td>\n",
              "      <td>4.0</td>\n",
              "      <td>0.0</td>\n",
              "      <td>1.0</td>\n",
              "      <td>0.0</td>\n",
              "      <td>0.0</td>\n",
              "      <td>0.0</td>\n",
              "      <td>0.0</td>\n",
              "      <td>0.0</td>\n",
              "      <td>0.0</td>\n",
              "      <td>3.0</td>\n",
              "    </tr>\n",
              "  </tbody>\n",
              "</table>\n",
              "</div>\n",
              "    <div class=\"colab-df-buttons\">\n",
              "\n",
              "  <div class=\"colab-df-container\">\n",
              "    <button class=\"colab-df-convert\" onclick=\"convertToInteractive('df-244ecb6b-6183-4862-a365-4683d73fb724')\"\n",
              "            title=\"Convert this dataframe to an interactive table.\"\n",
              "            style=\"display:none;\">\n",
              "\n",
              "  <svg xmlns=\"http://www.w3.org/2000/svg\" height=\"24px\" viewBox=\"0 -960 960 960\">\n",
              "    <path d=\"M120-120v-720h720v720H120Zm60-500h600v-160H180v160Zm220 220h160v-160H400v160Zm0 220h160v-160H400v160ZM180-400h160v-160H180v160Zm440 0h160v-160H620v160ZM180-180h160v-160H180v160Zm440 0h160v-160H620v160Z\"/>\n",
              "  </svg>\n",
              "    </button>\n",
              "\n",
              "  <style>\n",
              "    .colab-df-container {\n",
              "      display:flex;\n",
              "      gap: 12px;\n",
              "    }\n",
              "\n",
              "    .colab-df-convert {\n",
              "      background-color: #E8F0FE;\n",
              "      border: none;\n",
              "      border-radius: 50%;\n",
              "      cursor: pointer;\n",
              "      display: none;\n",
              "      fill: #1967D2;\n",
              "      height: 32px;\n",
              "      padding: 0 0 0 0;\n",
              "      width: 32px;\n",
              "    }\n",
              "\n",
              "    .colab-df-convert:hover {\n",
              "      background-color: #E2EBFA;\n",
              "      box-shadow: 0px 1px 2px rgba(60, 64, 67, 0.3), 0px 1px 3px 1px rgba(60, 64, 67, 0.15);\n",
              "      fill: #174EA6;\n",
              "    }\n",
              "\n",
              "    .colab-df-buttons div {\n",
              "      margin-bottom: 4px;\n",
              "    }\n",
              "\n",
              "    [theme=dark] .colab-df-convert {\n",
              "      background-color: #3B4455;\n",
              "      fill: #D2E3FC;\n",
              "    }\n",
              "\n",
              "    [theme=dark] .colab-df-convert:hover {\n",
              "      background-color: #434B5C;\n",
              "      box-shadow: 0px 1px 3px 1px rgba(0, 0, 0, 0.15);\n",
              "      filter: drop-shadow(0px 1px 2px rgba(0, 0, 0, 0.3));\n",
              "      fill: #FFFFFF;\n",
              "    }\n",
              "  </style>\n",
              "\n",
              "    <script>\n",
              "      const buttonEl =\n",
              "        document.querySelector('#df-244ecb6b-6183-4862-a365-4683d73fb724 button.colab-df-convert');\n",
              "      buttonEl.style.display =\n",
              "        google.colab.kernel.accessAllowed ? 'block' : 'none';\n",
              "\n",
              "      async function convertToInteractive(key) {\n",
              "        const element = document.querySelector('#df-244ecb6b-6183-4862-a365-4683d73fb724');\n",
              "        const dataTable =\n",
              "          await google.colab.kernel.invokeFunction('convertToInteractive',\n",
              "                                                    [key], {});\n",
              "        if (!dataTable) return;\n",
              "\n",
              "        const docLinkHtml = 'Like what you see? Visit the ' +\n",
              "          '<a target=\"_blank\" href=https://colab.research.google.com/notebooks/data_table.ipynb>data table notebook</a>'\n",
              "          + ' to learn more about interactive tables.';\n",
              "        element.innerHTML = '';\n",
              "        dataTable['output_type'] = 'display_data';\n",
              "        await google.colab.output.renderOutput(dataTable, element);\n",
              "        const docLink = document.createElement('div');\n",
              "        docLink.innerHTML = docLinkHtml;\n",
              "        element.appendChild(docLink);\n",
              "      }\n",
              "    </script>\n",
              "  </div>\n",
              "\n",
              "\n",
              "    </div>\n",
              "  </div>\n"
            ],
            "application/vnd.google.colaboratory.intrinsic+json": {
              "type": "dataframe",
              "variable_name": "X_train_real",
              "summary": "{\n  \"name\": \"X_train_real\",\n  \"rows\": 3176,\n  \"fields\": [\n    {\n      \"column\": \"text_c\",\n      \"properties\": {\n        \"dtype\": \"string\",\n        \"num_unique_values\": 2310,\n        \"samples\": [\n          \"Tell them the drug dealer's getting impatient\",\n          \"i want to grasp your pretty booty :)\",\n          \"Dont hesitate. You know this is the second time she has had weakness like that. So keep i notebook of what she eat and did the day before or if anything changed the day before so that we can be sure its nothing\"\n        ],\n        \"semantic_type\": \"\",\n        \"description\": \"\"\n      }\n    },\n    {\n      \"column\": \"count_words\",\n      \"properties\": {\n        \"dtype\": \"number\",\n        \"std\": 11.16486243960868,\n        \"min\": 0.0,\n        \"max\": 179.0,\n        \"num_unique_values\": 67,\n        \"samples\": [\n          0.0,\n          1.0,\n          33.0\n        ],\n        \"semantic_type\": \"\",\n        \"description\": \"\"\n      }\n    },\n    {\n      \"column\": \"count_characters\",\n      \"properties\": {\n        \"dtype\": \"number\",\n        \"std\": 57.66140453663187,\n        \"min\": 2.0,\n        \"max\": 910.0,\n        \"num_unique_values\": 231,\n        \"samples\": [\n          203.0,\n          56.0,\n          149.0\n        ],\n        \"semantic_type\": \"\",\n        \"description\": \"\"\n      }\n    },\n    {\n      \"column\": \"count_characters_no_space\",\n      \"properties\": {\n        \"dtype\": \"number\",\n        \"std\": 47.145466309646544,\n        \"min\": 2.0,\n        \"max\": 740.0,\n        \"num_unique_values\": 199,\n        \"samples\": [\n          172.0,\n          29.0,\n          296.0\n        ],\n        \"semantic_type\": \"\",\n        \"description\": \"\"\n      }\n    },\n    {\n      \"column\": \"avg_word_length\",\n      \"properties\": {\n        \"dtype\": \"number\",\n        \"std\": 0.7907373259456019,\n        \"min\": 1.0,\n        \"max\": 10.125,\n        \"num_unique_values\": 649,\n        \"samples\": [\n          3.393939393939394,\n          2.9523809523809526,\n          4.551724137931035\n        ],\n        \"semantic_type\": \"\",\n        \"description\": \"\"\n      }\n    },\n    {\n      \"column\": \"count_numbers\",\n      \"properties\": {\n        \"dtype\": \"number\",\n        \"std\": 0.9250643570787385,\n        \"min\": 0.0,\n        \"max\": 9.0,\n        \"num_unique_values\": 9,\n        \"samples\": [\n          8.0,\n          2.0,\n          4.0\n        ],\n        \"semantic_type\": \"\",\n        \"description\": \"\"\n      }\n    },\n    {\n      \"column\": \"count_sentences\",\n      \"properties\": {\n        \"dtype\": \"number\",\n        \"std\": 1.315306744922062,\n        \"min\": 1.0,\n        \"max\": 13.0,\n        \"num_unique_values\": 12,\n        \"samples\": [\n          8.0,\n          11.0,\n          1.0\n        ],\n        \"semantic_type\": \"\",\n        \"description\": \"\"\n      }\n    },\n    {\n      \"column\": \"noun_count\",\n      \"properties\": {\n        \"dtype\": \"number\",\n        \"std\": 4.377772187704162,\n        \"min\": 0.0,\n        \"max\": 46.0,\n        \"num_unique_values\": 30,\n        \"samples\": [\n          46.0,\n          10.0,\n          19.0\n        ],\n        \"semantic_type\": \"\",\n        \"description\": \"\"\n      }\n    },\n    {\n      \"column\": \"aux_count\",\n      \"properties\": {\n        \"dtype\": \"number\",\n        \"std\": 1.3354200665707423,\n        \"min\": 0.0,\n        \"max\": 32.0,\n        \"num_unique_values\": 12,\n        \"samples\": [\n          8.0,\n          7.0,\n          0.0\n        ],\n        \"semantic_type\": \"\",\n        \"description\": \"\"\n      }\n    },\n    {\n      \"column\": \"verb_count\",\n      \"properties\": {\n        \"dtype\": \"number\",\n        \"std\": 2.0124570650781592,\n        \"min\": 0.0,\n        \"max\": 27.0,\n        \"num_unique_values\": 18,\n        \"samples\": [\n          1.0,\n          2.0,\n          15.0\n        ],\n        \"semantic_type\": \"\",\n        \"description\": \"\"\n      }\n    },\n    {\n      \"column\": \"adj_count\",\n      \"properties\": {\n        \"dtype\": \"number\",\n        \"std\": 1.1676693770638877,\n        \"min\": 0.0,\n        \"max\": 12.0,\n        \"num_unique_values\": 10,\n        \"samples\": [\n          7.0,\n          3.0,\n          4.0\n        ],\n        \"semantic_type\": \"\",\n        \"description\": \"\"\n      }\n    },\n    {\n      \"column\": \"ner\",\n      \"properties\": {\n        \"dtype\": \"number\",\n        \"std\": 1.5957418446443037,\n        \"min\": 0.0,\n        \"max\": 16.0,\n        \"num_unique_values\": 13,\n        \"samples\": [\n          16.0,\n          9.0,\n          0.0\n        ],\n        \"semantic_type\": \"\",\n        \"description\": \"\"\n      }\n    },\n    {\n      \"column\": \"caps_count\",\n      \"properties\": {\n        \"dtype\": \"number\",\n        \"std\": 2.167631292214816,\n        \"min\": 0.0,\n        \"max\": 32.0,\n        \"num_unique_values\": 25,\n        \"samples\": [\n          5.0,\n          21.0,\n          0.0\n        ],\n        \"semantic_type\": \"\",\n        \"description\": \"\"\n      }\n    },\n    {\n      \"column\": \"excl_count\",\n      \"properties\": {\n        \"dtype\": \"number\",\n        \"std\": 0.050133204821444385,\n        \"min\": 0.0,\n        \"max\": 1.0,\n        \"num_unique_values\": 2,\n        \"samples\": [\n          1.0,\n          0.0\n        ],\n        \"semantic_type\": \"\",\n        \"description\": \"\"\n      }\n    },\n    {\n      \"column\": \"ques_count\",\n      \"properties\": {\n        \"dtype\": \"number\",\n        \"std\": 0.05879229748056542,\n        \"min\": 0.0,\n        \"max\": 2.0,\n        \"num_unique_values\": 3,\n        \"samples\": [\n          0.0,\n          1.0\n        ],\n        \"semantic_type\": \"\",\n        \"description\": \"\"\n      }\n    },\n    {\n      \"column\": \"urls_count\",\n      \"properties\": {\n        \"dtype\": \"number\",\n        \"std\": 0.14267242749482573,\n        \"min\": 0.0,\n        \"max\": 1.0,\n        \"num_unique_values\": 2,\n        \"samples\": [\n          1.0,\n          0.0\n        ],\n        \"semantic_type\": \"\",\n        \"description\": \"\"\n      }\n    },\n    {\n      \"column\": \"spelling_errors_count\",\n      \"properties\": {\n        \"dtype\": \"number\",\n        \"std\": 3.1021805823991735,\n        \"min\": 0.0,\n        \"max\": 25.0,\n        \"num_unique_values\": 24,\n        \"samples\": [\n          1.0,\n          15.0\n        ],\n        \"semantic_type\": \"\",\n        \"description\": \"\"\n      }\n    }\n  ]\n}"
            }
          },
          "metadata": {},
          "execution_count": 15
        }
      ]
    },
    {
      "cell_type": "code",
      "source": [
        "class SparseTransformer(TransformerMixin, BaseEstimator):\n",
        "    def __init__(self):\n",
        "        pass\n",
        "\n",
        "    def fit(self, X, y=None):\n",
        "        return self\n",
        "\n",
        "    def transform(self, X, y=None):\n",
        "        return csr_matrix(X)"
      ],
      "metadata": {
        "id": "CXxV_DVavZJm"
      },
      "execution_count": 16,
      "outputs": []
    },
    {
      "cell_type": "code",
      "source": [
        "sparse_features = Pipeline([('sparse', SparseTransformer()), ])\n",
        "vectorizer = Pipeline([('tfidf', TfidfVectorizer(encoding='latin-1',stop_words='english',strip_accents='unicode')), ])"
      ],
      "metadata": {
        "id": "sqpioV8FvcZ-"
      },
      "execution_count": 17,
      "outputs": []
    },
    {
      "cell_type": "code",
      "source": [
        "combined_features = ColumnTransformer(\n",
        "    transformers=[\n",
        "        ('tfidf', vectorizer, 'text_c'),\n",
        "    ], remainder=sparse_features\n",
        ")"
      ],
      "metadata": {
        "id": "UEn5HsAJviY8"
      },
      "execution_count": 19,
      "outputs": []
    },
    {
      "cell_type": "code",
      "source": [
        "pipeline = Pipeline([('combined_features',  combined_features),\n",
        "                         ('classifier', MultinomialNB()),\n",
        "                         ])"
      ],
      "metadata": {
        "id": "5jPzR9sUveph"
      },
      "execution_count": 21,
      "outputs": []
    },
    {
      "cell_type": "code",
      "source": [
        "param_grid = {'combined_features__tfidf__tfidf__max_features': [1000, 2000, 5000, 8000, 10000],\n",
        "                           'classifier__alpha': [0.001, 0.01, 0.1, 0.5, 1.0]\n",
        "                           }"
      ],
      "metadata": {
        "id": "Pu_hbTz_vhed"
      },
      "execution_count": 22,
      "outputs": []
    },
    {
      "cell_type": "code",
      "source": [
        "random_search_clf = HalvingRandomSearchCV(estimator=pipeline, param_distributions = param_grid, cv=cv_kfold, scoring='f1_weighted', random_state=1)"
      ],
      "metadata": {
        "id": "JNEi5GbSvn_X"
      },
      "execution_count": 23,
      "outputs": []
    },
    {
      "cell_type": "code",
      "source": [
        "random_search_clf.fit(X_train_real, y_train)"
      ],
      "metadata": {
        "colab": {
          "base_uri": "https://localhost:8080/",
          "height": 271
        },
        "id": "7jZUJJxUvtbp",
        "outputId": "4461bc76-0fc3-4af6-983a-e7bbc970e472"
      },
      "execution_count": 25,
      "outputs": [
        {
          "output_type": "stream",
          "name": "stderr",
          "text": [
            "/usr/local/lib/python3.10/dist-packages/sklearn/model_selection/_search.py:307: UserWarning: The total space of parameters 25 is smaller than n_iter=158. Running 25 iterations. For exhaustive searches, use GridSearchCV.\n",
            "  warnings.warn(\n"
          ]
        },
        {
          "output_type": "execute_result",
          "data": {
            "text/plain": [
              "HalvingRandomSearchCV(cv=StratifiedKFold(n_splits=5, random_state=1, shuffle=True),\n",
              "                      estimator=Pipeline(steps=[('combined_features',\n",
              "                                                 ColumnTransformer(remainder=Pipeline(steps=[('sparse',\n",
              "                                                                                              SparseTransformer())]),\n",
              "                                                                   transformers=[('tfidf',\n",
              "                                                                                  Pipeline(steps=[('tfidf',\n",
              "                                                                                                   TfidfVectorizer(encoding='latin-1',\n",
              "                                                                                                                   stop_words='english',\n",
              "                                                                                                                   strip_accents='unicode'))]),\n",
              "                                                                                  'text_c')])),\n",
              "                                                ('classifier',\n",
              "                                                 MultinomialNB())]),\n",
              "                      param_distributions={'classifier__alpha': [0.001, 0.01,\n",
              "                                                                 0.1, 0.5,\n",
              "                                                                 1.0],\n",
              "                                           'combined_features__tfidf__tfidf__max_features': [1000,\n",
              "                                                                                             2000,\n",
              "                                                                                             5000,\n",
              "                                                                                             8000,\n",
              "                                                                                             10000]},\n",
              "                      random_state=1, scoring='f1_weighted')"
            ],
            "text/html": [
              "<style>#sk-container-id-1 {color: black;}#sk-container-id-1 pre{padding: 0;}#sk-container-id-1 div.sk-toggleable {background-color: white;}#sk-container-id-1 label.sk-toggleable__label {cursor: pointer;display: block;width: 100%;margin-bottom: 0;padding: 0.3em;box-sizing: border-box;text-align: center;}#sk-container-id-1 label.sk-toggleable__label-arrow:before {content: \"▸\";float: left;margin-right: 0.25em;color: #696969;}#sk-container-id-1 label.sk-toggleable__label-arrow:hover:before {color: black;}#sk-container-id-1 div.sk-estimator:hover label.sk-toggleable__label-arrow:before {color: black;}#sk-container-id-1 div.sk-toggleable__content {max-height: 0;max-width: 0;overflow: hidden;text-align: left;background-color: #f0f8ff;}#sk-container-id-1 div.sk-toggleable__content pre {margin: 0.2em;color: black;border-radius: 0.25em;background-color: #f0f8ff;}#sk-container-id-1 input.sk-toggleable__control:checked~div.sk-toggleable__content {max-height: 200px;max-width: 100%;overflow: auto;}#sk-container-id-1 input.sk-toggleable__control:checked~label.sk-toggleable__label-arrow:before {content: \"▾\";}#sk-container-id-1 div.sk-estimator input.sk-toggleable__control:checked~label.sk-toggleable__label {background-color: #d4ebff;}#sk-container-id-1 div.sk-label input.sk-toggleable__control:checked~label.sk-toggleable__label {background-color: #d4ebff;}#sk-container-id-1 input.sk-hidden--visually {border: 0;clip: rect(1px 1px 1px 1px);clip: rect(1px, 1px, 1px, 1px);height: 1px;margin: -1px;overflow: hidden;padding: 0;position: absolute;width: 1px;}#sk-container-id-1 div.sk-estimator {font-family: monospace;background-color: #f0f8ff;border: 1px dotted black;border-radius: 0.25em;box-sizing: border-box;margin-bottom: 0.5em;}#sk-container-id-1 div.sk-estimator:hover {background-color: #d4ebff;}#sk-container-id-1 div.sk-parallel-item::after {content: \"\";width: 100%;border-bottom: 1px solid gray;flex-grow: 1;}#sk-container-id-1 div.sk-label:hover label.sk-toggleable__label {background-color: #d4ebff;}#sk-container-id-1 div.sk-serial::before {content: \"\";position: absolute;border-left: 1px solid gray;box-sizing: border-box;top: 0;bottom: 0;left: 50%;z-index: 0;}#sk-container-id-1 div.sk-serial {display: flex;flex-direction: column;align-items: center;background-color: white;padding-right: 0.2em;padding-left: 0.2em;position: relative;}#sk-container-id-1 div.sk-item {position: relative;z-index: 1;}#sk-container-id-1 div.sk-parallel {display: flex;align-items: stretch;justify-content: center;background-color: white;position: relative;}#sk-container-id-1 div.sk-item::before, #sk-container-id-1 div.sk-parallel-item::before {content: \"\";position: absolute;border-left: 1px solid gray;box-sizing: border-box;top: 0;bottom: 0;left: 50%;z-index: -1;}#sk-container-id-1 div.sk-parallel-item {display: flex;flex-direction: column;z-index: 1;position: relative;background-color: white;}#sk-container-id-1 div.sk-parallel-item:first-child::after {align-self: flex-end;width: 50%;}#sk-container-id-1 div.sk-parallel-item:last-child::after {align-self: flex-start;width: 50%;}#sk-container-id-1 div.sk-parallel-item:only-child::after {width: 0;}#sk-container-id-1 div.sk-dashed-wrapped {border: 1px dashed gray;margin: 0 0.4em 0.5em 0.4em;box-sizing: border-box;padding-bottom: 0.4em;background-color: white;}#sk-container-id-1 div.sk-label label {font-family: monospace;font-weight: bold;display: inline-block;line-height: 1.2em;}#sk-container-id-1 div.sk-label-container {text-align: center;}#sk-container-id-1 div.sk-container {/* jupyter's `normalize.less` sets `[hidden] { display: none; }` but bootstrap.min.css set `[hidden] { display: none !important; }` so we also need the `!important` here to be able to override the default hidden behavior on the sphinx rendered scikit-learn.org. See: https://github.com/scikit-learn/scikit-learn/issues/21755 */display: inline-block !important;position: relative;}#sk-container-id-1 div.sk-text-repr-fallback {display: none;}</style><div id=\"sk-container-id-1\" class=\"sk-top-container\"><div class=\"sk-text-repr-fallback\"><pre>HalvingRandomSearchCV(cv=StratifiedKFold(n_splits=5, random_state=1, shuffle=True),\n",
              "                      estimator=Pipeline(steps=[(&#x27;combined_features&#x27;,\n",
              "                                                 ColumnTransformer(remainder=Pipeline(steps=[(&#x27;sparse&#x27;,\n",
              "                                                                                              SparseTransformer())]),\n",
              "                                                                   transformers=[(&#x27;tfidf&#x27;,\n",
              "                                                                                  Pipeline(steps=[(&#x27;tfidf&#x27;,\n",
              "                                                                                                   TfidfVectorizer(encoding=&#x27;latin-1&#x27;,\n",
              "                                                                                                                   stop_words=&#x27;english&#x27;,\n",
              "                                                                                                                   strip_accents=&#x27;unicode&#x27;))]),\n",
              "                                                                                  &#x27;text_c&#x27;)])),\n",
              "                                                (&#x27;classifier&#x27;,\n",
              "                                                 MultinomialNB())]),\n",
              "                      param_distributions={&#x27;classifier__alpha&#x27;: [0.001, 0.01,\n",
              "                                                                 0.1, 0.5,\n",
              "                                                                 1.0],\n",
              "                                           &#x27;combined_features__tfidf__tfidf__max_features&#x27;: [1000,\n",
              "                                                                                             2000,\n",
              "                                                                                             5000,\n",
              "                                                                                             8000,\n",
              "                                                                                             10000]},\n",
              "                      random_state=1, scoring=&#x27;f1_weighted&#x27;)</pre><b>In a Jupyter environment, please rerun this cell to show the HTML representation or trust the notebook. <br />On GitHub, the HTML representation is unable to render, please try loading this page with nbviewer.org.</b></div><div class=\"sk-container\" hidden><div class=\"sk-item sk-dashed-wrapped\"><div class=\"sk-label-container\"><div class=\"sk-label sk-toggleable\"><input class=\"sk-toggleable__control sk-hidden--visually\" id=\"sk-estimator-id-1\" type=\"checkbox\" ><label for=\"sk-estimator-id-1\" class=\"sk-toggleable__label sk-toggleable__label-arrow\">HalvingRandomSearchCV</label><div class=\"sk-toggleable__content\"><pre>HalvingRandomSearchCV(cv=StratifiedKFold(n_splits=5, random_state=1, shuffle=True),\n",
              "                      estimator=Pipeline(steps=[(&#x27;combined_features&#x27;,\n",
              "                                                 ColumnTransformer(remainder=Pipeline(steps=[(&#x27;sparse&#x27;,\n",
              "                                                                                              SparseTransformer())]),\n",
              "                                                                   transformers=[(&#x27;tfidf&#x27;,\n",
              "                                                                                  Pipeline(steps=[(&#x27;tfidf&#x27;,\n",
              "                                                                                                   TfidfVectorizer(encoding=&#x27;latin-1&#x27;,\n",
              "                                                                                                                   stop_words=&#x27;english&#x27;,\n",
              "                                                                                                                   strip_accents=&#x27;unicode&#x27;))]),\n",
              "                                                                                  &#x27;text_c&#x27;)])),\n",
              "                                                (&#x27;classifier&#x27;,\n",
              "                                                 MultinomialNB())]),\n",
              "                      param_distributions={&#x27;classifier__alpha&#x27;: [0.001, 0.01,\n",
              "                                                                 0.1, 0.5,\n",
              "                                                                 1.0],\n",
              "                                           &#x27;combined_features__tfidf__tfidf__max_features&#x27;: [1000,\n",
              "                                                                                             2000,\n",
              "                                                                                             5000,\n",
              "                                                                                             8000,\n",
              "                                                                                             10000]},\n",
              "                      random_state=1, scoring=&#x27;f1_weighted&#x27;)</pre></div></div></div><div class=\"sk-parallel\"><div class=\"sk-parallel-item\"><div class=\"sk-item\"><div class=\"sk-label-container\"><div class=\"sk-label sk-toggleable\"><input class=\"sk-toggleable__control sk-hidden--visually\" id=\"sk-estimator-id-2\" type=\"checkbox\" ><label for=\"sk-estimator-id-2\" class=\"sk-toggleable__label sk-toggleable__label-arrow\">estimator: Pipeline</label><div class=\"sk-toggleable__content\"><pre>Pipeline(steps=[(&#x27;combined_features&#x27;,\n",
              "                 ColumnTransformer(remainder=Pipeline(steps=[(&#x27;sparse&#x27;,\n",
              "                                                              SparseTransformer())]),\n",
              "                                   transformers=[(&#x27;tfidf&#x27;,\n",
              "                                                  Pipeline(steps=[(&#x27;tfidf&#x27;,\n",
              "                                                                   TfidfVectorizer(encoding=&#x27;latin-1&#x27;,\n",
              "                                                                                   stop_words=&#x27;english&#x27;,\n",
              "                                                                                   strip_accents=&#x27;unicode&#x27;))]),\n",
              "                                                  &#x27;text_c&#x27;)])),\n",
              "                (&#x27;classifier&#x27;, MultinomialNB())])</pre></div></div></div><div class=\"sk-serial\"><div class=\"sk-item\"><div class=\"sk-serial\"><div class=\"sk-item sk-dashed-wrapped\"><div class=\"sk-label-container\"><div class=\"sk-label sk-toggleable\"><input class=\"sk-toggleable__control sk-hidden--visually\" id=\"sk-estimator-id-3\" type=\"checkbox\" ><label for=\"sk-estimator-id-3\" class=\"sk-toggleable__label sk-toggleable__label-arrow\">combined_features: ColumnTransformer</label><div class=\"sk-toggleable__content\"><pre>ColumnTransformer(remainder=Pipeline(steps=[(&#x27;sparse&#x27;, SparseTransformer())]),\n",
              "                  transformers=[(&#x27;tfidf&#x27;,\n",
              "                                 Pipeline(steps=[(&#x27;tfidf&#x27;,\n",
              "                                                  TfidfVectorizer(encoding=&#x27;latin-1&#x27;,\n",
              "                                                                  stop_words=&#x27;english&#x27;,\n",
              "                                                                  strip_accents=&#x27;unicode&#x27;))]),\n",
              "                                 &#x27;text_c&#x27;)])</pre></div></div></div><div class=\"sk-parallel\"><div class=\"sk-parallel-item\"><div class=\"sk-item\"><div class=\"sk-label-container\"><div class=\"sk-label sk-toggleable\"><input class=\"sk-toggleable__control sk-hidden--visually\" id=\"sk-estimator-id-4\" type=\"checkbox\" ><label for=\"sk-estimator-id-4\" class=\"sk-toggleable__label sk-toggleable__label-arrow\">tfidf</label><div class=\"sk-toggleable__content\"><pre>text_c</pre></div></div></div><div class=\"sk-serial\"><div class=\"sk-item\"><div class=\"sk-serial\"><div class=\"sk-item\"><div class=\"sk-estimator sk-toggleable\"><input class=\"sk-toggleable__control sk-hidden--visually\" id=\"sk-estimator-id-5\" type=\"checkbox\" ><label for=\"sk-estimator-id-5\" class=\"sk-toggleable__label sk-toggleable__label-arrow\">TfidfVectorizer</label><div class=\"sk-toggleable__content\"><pre>TfidfVectorizer(encoding=&#x27;latin-1&#x27;, stop_words=&#x27;english&#x27;,\n",
              "                strip_accents=&#x27;unicode&#x27;)</pre></div></div></div></div></div></div></div></div><div class=\"sk-parallel-item\"><div class=\"sk-item\"><div class=\"sk-label-container\"><div class=\"sk-label sk-toggleable\"><input class=\"sk-toggleable__control sk-hidden--visually\" id=\"sk-estimator-id-6\" type=\"checkbox\" ><label for=\"sk-estimator-id-6\" class=\"sk-toggleable__label sk-toggleable__label-arrow\">remainder</label><div class=\"sk-toggleable__content\"><pre></pre></div></div></div><div class=\"sk-serial\"><div class=\"sk-item\"><div class=\"sk-serial\"><div class=\"sk-item\"><div class=\"sk-estimator sk-toggleable\"><input class=\"sk-toggleable__control sk-hidden--visually\" id=\"sk-estimator-id-7\" type=\"checkbox\" ><label for=\"sk-estimator-id-7\" class=\"sk-toggleable__label sk-toggleable__label-arrow\">SparseTransformer</label><div class=\"sk-toggleable__content\"><pre>SparseTransformer()</pre></div></div></div></div></div></div></div></div></div></div><div class=\"sk-item\"><div class=\"sk-estimator sk-toggleable\"><input class=\"sk-toggleable__control sk-hidden--visually\" id=\"sk-estimator-id-8\" type=\"checkbox\" ><label for=\"sk-estimator-id-8\" class=\"sk-toggleable__label sk-toggleable__label-arrow\">MultinomialNB</label><div class=\"sk-toggleable__content\"><pre>MultinomialNB()</pre></div></div></div></div></div></div></div></div></div></div></div></div>"
            ]
          },
          "metadata": {},
          "execution_count": 25
        }
      ]
    },
    {
      "cell_type": "code",
      "source": [
        "print(f'Best cross-validation score: {random_search_clf.best_score_:.2f}')\n",
        "print(\"\\nBest parameters: \", random_search_clf.best_params_)\n",
        "print(\"\\nBest estimator: \", random_search_clf.best_estimator_)"
      ],
      "metadata": {
        "colab": {
          "base_uri": "https://localhost:8080/"
        },
        "id": "DM-MKUtRvyy6",
        "outputId": "5075f5f8-746d-4a6e-f230-3b4d2f02b8e8"
      },
      "execution_count": 26,
      "outputs": [
        {
          "output_type": "stream",
          "name": "stdout",
          "text": [
            "Best cross-validation score: 0.96\n",
            "\n",
            "Best parameters:  {'combined_features__tfidf__tfidf__max_features': 5000, 'classifier__alpha': 0.01}\n",
            "\n",
            "Best estimator:  Pipeline(steps=[('combined_features',\n",
            "                 ColumnTransformer(remainder=Pipeline(steps=[('sparse',\n",
            "                                                              SparseTransformer())]),\n",
            "                                   transformers=[('tfidf',\n",
            "                                                  Pipeline(steps=[('tfidf',\n",
            "                                                                   TfidfVectorizer(encoding='latin-1',\n",
            "                                                                                   max_features=5000,\n",
            "                                                                                   stop_words='english',\n",
            "                                                                                   strip_accents='unicode'))]),\n",
            "                                                  'text_c')])),\n",
            "                ('classifier', MultinomialNB(alpha=0.01))])\n"
          ]
        }
      ]
    },
    {
      "cell_type": "markdown",
      "source": [
        "#### Plotting CV Results and how this pipeline has fared\n",
        "\n",
        "---"
      ],
      "metadata": {
        "id": "OyJ0SMDdwQYl"
      }
    },
    {
      "cell_type": "code",
      "source": [
        "plot_learning_curve(estimator = random_search_clf.best_estimator_, title = 'Pipeline Learning Curve on a large set',X=X_train_real, y=y_train,cv=cv_kfold, scoring='f1_weighted')"
      ],
      "metadata": {
        "colab": {
          "base_uri": "https://localhost:8080/",
          "height": 442
        },
        "id": "-y8Iqo9PwIJP",
        "outputId": "3e58ed31-b281-45b2-f3bf-0dff9169882f"
      },
      "execution_count": 27,
      "outputs": [
        {
          "output_type": "execute_result",
          "data": {
            "text/plain": [
              "<module 'matplotlib.pyplot' from '/usr/local/lib/python3.10/dist-packages/matplotlib/pyplot.py'>"
            ]
          },
          "metadata": {},
          "execution_count": 27
        },
        {
          "output_type": "display_data",
          "data": {
            "text/plain": [
              "<Figure size 2000x500 with 3 Axes>"
            ],
            "image/png": "[encoded data removed]"
          },
          "metadata": {}
        }
      ]
    },
    {
      "cell_type": "code",
      "source": [],
      "metadata": {
        "id": "7a0BIMPtwZsb"
      },
      "execution_count": null,
      "outputs": []
    }
  ]
}